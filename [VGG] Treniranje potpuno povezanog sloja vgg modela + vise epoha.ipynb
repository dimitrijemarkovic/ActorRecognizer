{
 "cells": [
  {
   "cell_type": "code",
   "execution_count": null,
   "id": "55d2bd50",
   "metadata": {},
   "outputs": [],
   "source": [
    "import torch\n",
    "import matplotlib.pyplot as plt\n",
    "import torch.nn as nn\n",
    "import torch.optim as optim\n",
    "from torchvision import datasets, models, transforms\n",
    "%run split_data.ipynb"
   ]
  },
  {
   "cell_type": "code",
   "execution_count": null,
   "id": "bb39a6e9",
   "metadata": {},
   "outputs": [],
   "source": [
    "vgg = models.vgg16(pretrained=True)\n",
    "\n",
    "for param in vgg.features.parameters():\n",
    "    param.requires_grad = False\n",
    "\n",
    "for param in vgg.classifier.parameters():\n",
    "    param.requires_grad = True\n",
    "\n",
    "\n",
    "num_classes = 105  \n",
    "vgg.classifier[-1] = torch.nn.Linear(in_features=4096, out_features=num_classes)\n",
    "\n",
    "criterion = nn.CrossEntropyLoss()\n",
    "learning_rate = 0.008\n",
    "layer_lr = [\n",
    "    {'params': vgg.classifier.parameters(), 'lr': learning_rate}\n",
    "]\n",
    "\n",
    "optimizer = optim.SGD(layer_lr, lr=learning_rate, momentum=0.9)\n",
    "\n",
    "num_epochs = 30\n",
    "device = torch.device(\"cuda:0\" if torch.cuda.is_available() else \"cpu\")\n",
    "vgg.to(device)"
   ]
  },
  {
   "cell_type": "code",
   "execution_count": null,
   "id": "74e1ca00",
   "metadata": {},
   "outputs": [],
   "source": [
    "def train_model(model, criterion, optimizer, train_loader, valid_loader, num_epochs=30):\n",
    "    train_loss_history = []\n",
    "    valid_loss_history = []\n",
    "    train_acc_history = []\n",
    "    valid_acc_history = []\n",
    "\n",
    "    for epoch in range(num_epochs):\n",
    "        model.train()\n",
    "        running_loss = 0.0\n",
    "        running_corrects = 0\n",
    "        total = 0\n",
    "\n",
    "        for inputs, labels in train_loader:\n",
    "            inputs = inputs.to(device)\n",
    "            labels = labels.to(device)\n",
    "\n",
    "            optimizer.zero_grad()\n",
    "\n",
    "            outputs = model(inputs)\n",
    "            _, preds = torch.max(outputs, 1)\n",
    "            loss = criterion(outputs, labels)\n",
    "\n",
    "            loss.backward()\n",
    "            optimizer.step()\n",
    "\n",
    "            running_loss += loss.item() * inputs.size(0)\n",
    "            running_corrects += torch.sum(preds == labels.data)\n",
    "            total += labels.size(0)\n",
    "\n",
    "        epoch_loss = running_loss / total\n",
    "        epoch_acc = running_corrects.double() / total\n",
    "\n",
    "        train_loss_history.append(epoch_loss)\n",
    "        train_acc_history.append(epoch_acc.item())\n",
    "\n",
    "        model.eval()\n",
    "        running_loss = 0.0\n",
    "        running_corrects = 0\n",
    "        total = 0\n",
    "\n",
    "        with torch.no_grad():\n",
    "            for inputs, labels in valid_loader:\n",
    "                inputs = inputs.to(device)\n",
    "                labels = labels.to(device)\n",
    "\n",
    "                outputs = model(inputs)\n",
    "                _, preds = torch.max(outputs, 1)\n",
    "                loss = criterion(outputs, labels)\n",
    "\n",
    "                running_loss += loss.item() * inputs.size(0)\n",
    "                running_corrects += torch.sum(preds == labels.data)\n",
    "                total += labels.size(0)\n",
    "\n",
    "            epoch_loss = running_loss / total\n",
    "            epoch_acc = running_corrects.double() / total\n",
    "\n",
    "            valid_loss_history.append(epoch_loss)\n",
    "            valid_acc_history.append(epoch_acc.item())\n",
    "\n",
    "        print(f'Epoch {epoch}/{num_epochs - 1}')\n",
    "        print(f'Train Loss: {train_loss_history[-1]:.4f} Acc: {train_acc_history[-1]:.4f}')\n",
    "        print(f'Valid Loss: {valid_loss_history[-1]:.4f} Acc: {valid_acc_history[-1]:.4f}')\n",
    "\n",
    "    return train_loss_history, valid_loss_history, train_acc_history, valid_acc_history"
   ]
  },
  {
   "cell_type": "code",
   "execution_count": null,
   "id": "e21321e2",
   "metadata": {},
   "outputs": [],
   "source": [
    "train_directory = 'trening'\n",
    "train_dataloader = load_images_and_create_dataloader(train_directory, batch_size=32)\n",
    "validate_directory = 'validate'\n",
    "validate_dataloader = load_images_and_create_dataloader(validate_directory, batch_size=32)"
   ]
  },
  {
   "cell_type": "code",
   "execution_count": null,
   "id": "53e4b22b",
   "metadata": {},
   "outputs": [],
   "source": [
    "train_loss, valid_loss, train_acc, valid_acc = train_model(vgg, criterion, optimizer, train_dataloader, validate_dataloader, num_epochs=num_epochs)"
   ]
  },
  {
   "cell_type": "code",
   "execution_count": null,
   "id": "423473dc",
   "metadata": {},
   "outputs": [],
   "source": [
    "plt.figure(figsize=(10, 5))\n",
    "plt.plot(range(num_epochs), train_loss, label='Training Loss')\n",
    "plt.plot(range(num_epochs), valid_loss, label='Validation Loss')\n",
    "plt.xlabel('Epochs')\n",
    "plt.ylabel('Loss')\n",
    "plt.legend()\n",
    "plt.title('Training and Validation Loss')\n",
    "plt.savefig('training_validation_loss_vgg_only_fc.png')\n",
    "plt.show()"
   ]
  },
  {
   "cell_type": "code",
   "execution_count": null,
   "id": "c7b57605",
   "metadata": {},
   "outputs": [],
   "source": [
    "plt.plot(range(num_epochs), train_acc, label='Training Accuracy')\n",
    "plt.plot(range(num_epochs), valid_acc, label='Validation Accuracy')\n",
    "plt.xlabel('Epochs')\n",
    "plt.ylabel('Accuracy')\n",
    "plt.legend()\n",
    "plt.title('Training and Validation Accuracy')\n",
    "plt.savefig('training_validation_accuracy_vgg_only_fc.png')\n",
    "plt.show()"
   ]
  },
  {
   "cell_type": "code",
   "execution_count": null,
   "id": "0d99de33",
   "metadata": {},
   "outputs": [],
   "source": [
    "save_model(vgg, \"vgg_only_fc_learning.pth\")"
   ]
  },
  {
   "cell_type": "code",
   "execution_count": null,
   "id": "f38ef030",
   "metadata": {},
   "outputs": [],
   "source": []
  }
 ],
 "metadata": {
  "kernelspec": {
   "display_name": "Python 3 (ipykernel)",
   "language": "python",
   "name": "python3"
  },
  "language_info": {
   "codemirror_mode": {
    "name": "ipython",
    "version": 3
   },
   "file_extension": ".py",
   "mimetype": "text/x-python",
   "name": "python",
   "nbconvert_exporter": "python",
   "pygments_lexer": "ipython3",
   "version": "3.10.7"
  }
 },
 "nbformat": 4,
 "nbformat_minor": 5
}
