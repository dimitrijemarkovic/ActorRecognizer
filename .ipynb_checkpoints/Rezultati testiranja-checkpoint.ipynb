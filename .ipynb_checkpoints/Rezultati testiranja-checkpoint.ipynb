{
 "cells": [
  {
   "cell_type": "markdown",
   "id": "12395f82",
   "metadata": {},
   "source": [
    "# VGG Treniranje samo fully connected slojeva\n",
    "\n",
    "[Fajl u kom su rezultati testiranja](https://github.com/dimitrijemarkovic/ActorRecognizer/blob/main/fc_vgg.ipynb) \n",
    "\n",
    "\n",
    "![Loss](./VGG/loss_only_fc.png)\n",
    "\n",
    "![Accuracy](./VGG/acc_only_fc.png)"
   ]
  },
  {
   "cell_type": "markdown",
   "id": "9b57c970",
   "metadata": {},
   "source": [
    "# VGG Treniranje samo conv slojeva\n",
    "\n",
    "[Fajl u kom su rezultati testiranja](https://github.com/dimitrijemarkovic/ActorRecognizer/blob/main/Treniranje_svih_VGG_modela.ipynb)\n",
    "\n",
    "\n",
    "![Loss](./VGG/loss_only_conv.png)\n",
    "\n",
    "![Accuracy](./VGG/acc_only_conv.png)"
   ]
  },
  {
   "cell_type": "markdown",
   "id": "dede77d5",
   "metadata": {},
   "source": [
    "# VGG Treniranje fully connected i poslednja 4 conv sloja\n",
    "\n",
    "[Fajl u kom su rezultati testiranja](https://github.com/dimitrijemarkovic/ActorRecognizer/blob/main/Treniranje_svih_VGG_modela.ipynb)\n",
    "\n",
    "\n",
    "![Loss](./VGG/loss_fc_and_last4conv.png)\n",
    "\n",
    "![Accuracy](./VGG/acc_fc_and_last4conv.png)"
   ]
  },
  {
   "cell_type": "markdown",
   "id": "f0b8f282",
   "metadata": {},
   "source": [
    "# RESNET Treniranje samo fully connected slojeva\n",
    "\n",
    "[Fajl u kom su rezultati testiranja](https://github.com/dimitrijemarkovic/ActorRecognizer/blob/main/Clone_Repo.ipynb)\n",
    "  \n",
    "\n",
    "\n",
    "![Loss](./RESNET/loss_only_fc.png)\n",
    "\n",
    "![Accuracy](./RESNET/acc_only_fc.png)"
   ]
  },
  {
   "cell_type": "markdown",
   "id": "bb2c5886",
   "metadata": {},
   "source": [
    "# RESNET Treniranje samo conv slojeva\n",
    "\n",
    "[Fajl u kom su rezultati testiranja](https://github.com/dimitrijemarkovic/ActorRecognizer/blob/main/conv_resnet.ipynb)\n",
    "\n",
    " \n",
    "\n",
    "![Loss](./RESNET/loss_only_conv.png)\n",
    "\n",
    "![Accuracy](./RESNET/acc_only_conv.png)"
   ]
  },
  {
   "cell_type": "code",
   "execution_count": null,
   "id": "dd06a2b6",
   "metadata": {},
   "outputs": [],
   "source": []
  }
 ],
 "metadata": {
  "kernelspec": {
   "display_name": "Python 3 (ipykernel)",
   "language": "python",
   "name": "python3"
  },
  "language_info": {
   "codemirror_mode": {
    "name": "ipython",
    "version": 3
   },
   "file_extension": ".py",
   "mimetype": "text/x-python",
   "name": "python",
   "nbconvert_exporter": "python",
   "pygments_lexer": "ipython3",
   "version": "3.10.7"
  }
 },
 "nbformat": 4,
 "nbformat_minor": 5
}
