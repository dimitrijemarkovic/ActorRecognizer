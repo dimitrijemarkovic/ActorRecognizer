{
 "cells": [
  {
   "cell_type": "code",
   "execution_count": null,
   "id": "03a75473",
   "metadata": {},
   "outputs": [],
   "source": [
    "import torch\n",
    "import matplotlib.pyplot as plt\n",
    "import torch.nn as nn\n",
    "import torch.optim as optim\n",
    "from torchvision import datasets, models, transforms\n",
    "from sklearn.metrics import accuracy_score, precision_score, recall_score, f1_score, confusion_matrix\n",
    "%run split_data.ipynb"
   ]
  },
  {
   "cell_type": "code",
   "execution_count": null,
   "id": "ecfcc22f",
   "metadata": {},
   "outputs": [],
   "source": [
    "resnet = models.resnet50(pretrained=True)\n",
    "for param in resnet.parameters():\n",
    "    param.requires_grad = False\n",
    "\n",
    "    \n",
    "for param in resnet.layer4.parameters():\n",
    "    param.requires_grad = True\n",
    "\n",
    "for param in resnet.layer3.parameters():\n",
    "    param.requires_grad = True\n",
    "    \n",
    "for param in resnet.layer2.parameters():\n",
    "    param.requires_grad = True\n",
    "\n",
    "num_classes = 105  \n",
    "resnet.fc = nn.Linear(resnet.fc.in_features, num_classes)\n",
    "\n",
    "\n",
    "criterion = nn.CrossEntropyLoss()\n",
    "learning_rate = 0.008\n",
    "optimizer = optim.SGD([\n",
    "    {'params': resnet.layer2.parameters(), 'lr': learning_rate / 5},\n",
    "    {'params': resnet.layer3.parameters(), 'lr': learning_rate / 2},\n",
    "    {'params': resnet.layer4.parameters(), 'lr': learning_rate}\n",
    "], lr=learning_rate, momentum=0.9)\n",
    "\n",
    "\n",
    "num_epochs = 30\n",
    "device = torch.device(\"cuda:0\" if torch.cuda.is_available() else \"cpu\")\n",
    "resnet.to(device)\n"
   ]
  },
  {
   "cell_type": "code",
   "execution_count": null,
   "id": "79621dce",
   "metadata": {},
   "outputs": [],
   "source": [
    "# vgg = models.vgg16(pretrained=True)\n",
    "\n",
    "# for i, (name, param) in enumerate(vgg.features.named_parameters()):\n",
    "#     param.requires_grad = True\n",
    "\n",
    "\n",
    "\n",
    "# for param in vgg.classifier.parameters():\n",
    "#     param.requires_grad = False\n",
    "\n",
    "\n",
    "# num_classes = 105  \n",
    "# vgg.classifier[-1] = torch.nn.Linear(in_features=4096, out_features=num_classes)\n",
    "\n",
    "\n",
    "\n",
    "# criterion = nn.CrossEntropyLoss()\n",
    "# learning_rate = 0.008\n",
    "# layer_lr = [\n",
    "#     {'params': vgg.features.parameters(), 'lr': learning_rate / 10},\n",
    "#     {'params': vgg.classifier.parameters(), 'lr': learning_rate}\n",
    "# ]\n",
    "\n",
    "# optimizer = optim.SGD(layer_lr, lr=learning_rate, momentum=0.9)\n",
    "\n",
    "\n",
    "# num_epochs = 30\n",
    "# device = torch.device(\"cuda:0\" if torch.cuda.is_available() else \"cpu\")\n",
    "# vgg.to(device)\n"
   ]
  },
  {
   "cell_type": "code",
   "execution_count": null,
   "id": "a4f41a89",
   "metadata": {},
   "outputs": [],
   "source": [
    "def train_model(model, criterion, optimizer, train_loader, valid_loader, num_epochs=30):\n",
    "    train_loss_history = []\n",
    "    valid_loss_history = []\n",
    "    train_acc_history = []\n",
    "    valid_acc_history = []\n",
    "\n",
    "    for epoch in range(num_epochs):\n",
    "        model.train()\n",
    "        running_loss = 0.0\n",
    "        running_corrects = 0\n",
    "        total = 0\n",
    "\n",
    "        for inputs, labels in train_loader:\n",
    "            inputs = inputs.to(device)\n",
    "            labels = labels.to(device)\n",
    "\n",
    "            optimizer.zero_grad()\n",
    "\n",
    "            outputs = model(inputs)\n",
    "            _, preds = torch.max(outputs, 1)\n",
    "            loss = criterion(outputs, labels)\n",
    "\n",
    "            loss.backward()\n",
    "            optimizer.step()\n",
    "\n",
    "            running_loss += loss.item() * inputs.size(0)\n",
    "            running_corrects += torch.sum(preds == labels.data)\n",
    "            total += labels.size(0)\n",
    "\n",
    "        epoch_loss = running_loss / total\n",
    "        epoch_acc = running_corrects.double() / total\n",
    "\n",
    "        train_loss_history.append(epoch_loss)\n",
    "        train_acc_history.append(epoch_acc.item())\n",
    "\n",
    "        model.eval()\n",
    "        running_loss = 0.0\n",
    "        running_corrects = 0\n",
    "        total = 0\n",
    "\n",
    "        with torch.no_grad():\n",
    "            for inputs, labels in valid_loader:\n",
    "                inputs = inputs.to(device)\n",
    "                labels = labels.to(device)\n",
    "\n",
    "                outputs = model(inputs)\n",
    "                _, preds = torch.max(outputs, 1)\n",
    "                loss = criterion(outputs, labels)\n",
    "\n",
    "                running_loss += loss.item() * inputs.size(0)\n",
    "                running_corrects += torch.sum(preds == labels.data)\n",
    "                total += labels.size(0)\n",
    "\n",
    "            epoch_loss = running_loss / total\n",
    "            epoch_acc = running_corrects.double() / total\n",
    "\n",
    "            valid_loss_history.append(epoch_loss)\n",
    "            valid_acc_history.append(epoch_acc.item())\n",
    "\n",
    "        print(f'Epoch {epoch}/{num_epochs - 1}')\n",
    "        print(f'Train Loss: {train_loss_history[-1]:.4f} Acc: {train_acc_history[-1]:.4f}')\n",
    "        print(f'Valid Loss: {valid_loss_history[-1]:.4f} Acc: {valid_acc_history[-1]:.4f}')\n",
    "\n",
    "    return train_loss_history, valid_loss_history, train_acc_history, valid_acc_history\n"
   ]
  },
  {
   "cell_type": "code",
   "execution_count": null,
   "id": "5d4270a2",
   "metadata": {},
   "outputs": [],
   "source": [
    "train_directory = 'trening'\n",
    "train_dataloader = load_images_and_create_dataloader(train_directory, batch_size=32)\n",
    "validate_directory = 'validate'\n",
    "validate_dataloader = load_images_and_create_dataloader(validate_directory, batch_size=32)\n",
    "test_directory = 'test'\n",
    "test_dataloader = load_images_and_create_dataloader(test_directory, batch_size=64)"
   ]
  },
  {
   "cell_type": "code",
   "execution_count": null,
   "id": "ccc3ab83",
   "metadata": {},
   "outputs": [],
   "source": [
    "train_loss, valid_loss, train_acc, valid_acc = train_model(resnet, criterion, optimizer, train_dataloader, validate_dataloader, num_epochs=num_epochs)"
   ]
  },
  {
   "cell_type": "code",
   "execution_count": null,
   "id": "eed05345",
   "metadata": {},
   "outputs": [],
   "source": [
    "plt.figure(figsize=(10, 5))\n",
    "plt.plot(range(num_epochs), train_loss, label='Training Loss')\n",
    "plt.plot(range(num_epochs), valid_loss, label='Validation Loss')\n",
    "plt.xlabel('Epochs')\n",
    "plt.ylabel('Loss')\n",
    "plt.legend()\n",
    "plt.title('Training and Validation Loss Resnet')\n",
    "plt.show()"
   ]
  },
  {
   "cell_type": "code",
   "execution_count": null,
   "id": "c385058a",
   "metadata": {},
   "outputs": [],
   "source": [
    "plt.figure(figsize=(10, 5))\n",
    "plt.plot(range(num_epochs), train_acc, label='Training Accuracy')\n",
    "plt.plot(range(num_epochs), valid_acc, label='Validation Accuracy')\n",
    "plt.xlabel('Epochs')\n",
    "plt.ylabel('Accuracy')\n",
    "plt.legend()\n",
    "plt.title('Training and Validation Accuracy Resnet')\n",
    "plt.show()"
   ]
  },
  {
   "cell_type": "code",
   "execution_count": null,
   "id": "8d38926e",
   "metadata": {},
   "outputs": [],
   "source": [
    "save_model(resnet, \"resnet_conv_layers_lr_0008.pth\")"
   ]
  },
  {
   "cell_type": "code",
   "execution_count": null,
   "id": "cfd4c6e6",
   "metadata": {},
   "outputs": [],
   "source": [
    "# train_loss, valid_loss, train_acc, valid_acc = train_model(vgg, criterion, optimizer, train_dataloader, validate_dataloader, num_epochs=num_epochs)"
   ]
  },
  {
   "cell_type": "code",
   "execution_count": null,
   "id": "add77ac6",
   "metadata": {},
   "outputs": [],
   "source": [
    "# plt.figure(figsize=(10, 5))\n",
    "# plt.plot(range(num_epochs), train_loss, label='Training Loss')\n",
    "# plt.plot(range(num_epochs), valid_loss, label='Validation Loss')\n",
    "# plt.xlabel('Epochs')\n",
    "# plt.ylabel('Loss')\n",
    "# plt.legend()\n",
    "# plt.title('Training and Validation Loss VGG')\n",
    "# plt.show()"
   ]
  },
  {
   "cell_type": "code",
   "execution_count": null,
   "id": "04165cf9",
   "metadata": {},
   "outputs": [],
   "source": [
    "# plt.figure(figsize=(10, 5))\n",
    "# plt.plot(range(num_epochs), train_acc, label='Training Accuracy')\n",
    "# plt.plot(range(num_epochs), valid_acc, label='Validation Accuracy')\n",
    "# plt.xlabel('Epochs')\n",
    "# plt.ylabel('Accuracy')\n",
    "# plt.legend()\n",
    "# plt.title('Training and Validation Accuracy VGG')\n",
    "# plt.show()"
   ]
  },
  {
   "cell_type": "code",
   "execution_count": null,
   "id": "8dc8c5b1",
   "metadata": {},
   "outputs": [],
   "source": [
    "# save_model(vgg, \"vgg_only_conv_lr_00008.pth\")"
   ]
  },
  {
   "cell_type": "code",
   "execution_count": null,
   "id": "0176950a",
   "metadata": {},
   "outputs": [],
   "source": [
    "def evaluate_model(model, dataloader, device):\n",
    "    model.eval()\n",
    "    all_labels = []\n",
    "    all_preds = []\n",
    "\n",
    "    with torch.no_grad():\n",
    "        for inputs, labels in dataloader:\n",
    "            inputs, labels = inputs.to(device), labels.to(device)\n",
    "            outputs = model(inputs)\n",
    "            _, preds = torch.max(outputs, 1)\n",
    "            all_labels.extend(labels.cpu().numpy())\n",
    "            all_preds.extend(preds.cpu().numpy())\n",
    "\n",
    "    accuracy = accuracy_score(all_labels, all_preds)\n",
    "    precision = precision_score(all_labels, all_preds, average='weighted')\n",
    "    recall = recall_score(all_labels, all_preds, average='weighted')\n",
    "    f1 = f1_score(all_labels, all_preds, average='weighted')\n",
    "    conf_matrix = confusion_matrix(all_labels, all_preds)\n",
    "\n",
    "    print(f'Accuracy: {accuracy:.4f}')\n",
    "    print(f'Precision: {precision:.4f}')\n",
    "    print(f'Recall: {recall:.4f}')\n",
    "    print(f'F1 Score: {f1:.4f}')\n",
    "    print(f'Confusion Matrix:\\n{conf_matrix}')\n",
    "\n",
    "    return accuracy, precision, recall, f1, conf_matrix\n"
   ]
  },
  {
   "cell_type": "code",
   "execution_count": null,
   "id": "b54803f0",
   "metadata": {},
   "outputs": [],
   "source": [
    "device = torch.device(\"cuda:0\" if torch.cuda.is_available() else \"cpu\")"
   ]
  },
  {
   "cell_type": "code",
   "execution_count": null,
   "id": "7be5afec",
   "metadata": {},
   "outputs": [],
   "source": [
    "evaluate_model(resnet, test_dataloader, device)"
   ]
  },
  {
   "cell_type": "code",
   "execution_count": null,
   "id": "37a1c085",
   "metadata": {},
   "outputs": [],
   "source": [
    "# evaluate_model(vgg, test_dataloader, device)"
   ]
  }
 ],
 "metadata": {
  "kernelspec": {
   "display_name": "Python 3 (ipykernel)",
   "language": "python",
   "name": "python3"
  },
  "language_info": {
   "codemirror_mode": {
    "name": "ipython",
    "version": 3
   },
   "file_extension": ".py",
   "mimetype": "text/x-python",
   "name": "python",
   "nbconvert_exporter": "python",
   "pygments_lexer": "ipython3",
   "version": "3.10.7"
  }
 },
 "nbformat": 4,
 "nbformat_minor": 5
}
